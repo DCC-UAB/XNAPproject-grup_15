{
 "cells": [
  {
   "cell_type": "markdown",
   "metadata": {},
   "source": [
    "# DATASET RANGE SPLITTER"
   ]
  },
  {
   "cell_type": "code",
   "execution_count": 19,
   "metadata": {},
   "outputs": [],
   "source": [
    "import pandas as pd\n",
    "import os\n",
    "\n",
    "# AFAD --> 15-40 ages\n",
    "afad_TRAIN_CSV_PATH = 'C:/Users/mirvi/Desktop/mii/UAB/3.2/Xneuronals/projecte/XNAPproject-grup_15/datasets/afad_test.csv'\n",
    "afad_TEST_CSV_PATH = 'C:/Users/mirvi/Desktop/mii/UAB/3.2/Xneuronals/projecte/XNAPproject-grup_15/datasets/afad_train.csv'\n",
    "afad_VALID_CSV_PATH = 'C:/Users/mirvi/Desktop/mii/UAB/3.2/Xneuronals/projecte/XNAPproject-grup_15/datasets/afad_valid.csv'\n",
    "\n",
    "# CACD --> 14-62 ages\n",
    "cacd_TRAIN_CSV_PATH = 'C:/Users/mirvi/Desktop/mii/UAB/3.2/Xneuronals/projecte/XNAPproject-grup_15/datasets/cacd_train.csv'\n",
    "cacd_TEST_CSV_PATH = 'C:/Users/mirvi/Desktop/mii/UAB/3.2/Xneuronals/projecte/XNAPproject-grup_15/datasets/cacd_test.csv'\n",
    "cacd_VALID_CSV_PATH = 'C:/Users/mirvi/Desktop/mii/UAB/3.2/Xneuronals/projecte/XNAPproject-grup_15/datasets/cacd_valid.csv'\n",
    "\n",
    "# MORPH --> 16-70 ages\n",
    "morph_TRAIN_CSV_PATH = 'C:/Users/mirvi/Desktop/mii/UAB/3.2/Xneuronals/projecte/XNAPproject-grup_15/datasets/morph2_train.csv'\n",
    "morph_TEST_CSV_PATH = 'C:/Users/mirvi/Desktop/mii/UAB/3.2/Xneuronals/projecte/XNAPproject-grup_15/datasets/morph2_test.csv'\n",
    "morph_VALID_CSV_PATH = 'C:/Users/mirvi/Desktop/mii/UAB/3.2/Xneuronals/projecte/XNAPproject-grup_15/datasets/morph2_valid.csv'\n",
    "\n",
    "\n",
    "afad_path = [afad_TRAIN_CSV_PATH, afad_TEST_CSV_PATH, afad_VALID_CSV_PATH]\n",
    "cacd_path = [cacd_TRAIN_CSV_PATH, cacd_TEST_CSV_PATH, cacd_VALID_CSV_PATH]\n",
    "morph_path = [morph_TRAIN_CSV_PATH, morph_TEST_CSV_PATH, morph_VALID_CSV_PATH]"
   ]
  },
  {
   "cell_type": "code",
   "execution_count": 20,
   "metadata": {},
   "outputs": [
    {
     "name": "stdout",
     "output_type": "stream",
     "text": [
      "Done!\n"
     ]
    }
   ],
   "source": [
    "# create directory to save the splitted datasets\n",
    "if not os.path.exists('./RANGE_splitted_datasets'):\n",
    "    os.makedirs('./RANGE_splitted_datasets')\n",
    "\n",
    "# split datasets\n",
    "names = ['train', 'test', 'valid']\n",
    "for i,ap in enumerate(afad_path):\n",
    "    df = pd.read_csv(ap)\n",
    "    df = df[df['age'] <= 9]\n",
    "    df.to_csv('./RANGE_splitted_datasets/afad_split09_'+names[i]+'.csv', index=False)\n",
    "\n",
    "for i,cp in enumerate(cacd_path):\n",
    "    df = pd.read_csv(cp)\n",
    "    df = df[df['age'] <= 9]\n",
    "    df.to_csv('./RANGE_splitted_datasets/cacd_split09_'+names[i]+'.csv', index=False)\n",
    "\n",
    "for i,mp in enumerate(morph_path):\n",
    "    df = pd.read_csv(mp)\n",
    "    df = df[df['age'] <= 9]\n",
    "    df.to_csv('./RANGE_splitted_datasets/morph_split09_'+names[i]+'.csv', index=False)\n",
    "\n",
    "print('Done!')"
   ]
  }
 ],
 "metadata": {
  "kernelspec": {
   "display_name": "Python 3",
   "language": "python",
   "name": "python3"
  },
  "language_info": {
   "codemirror_mode": {
    "name": "ipython",
    "version": 3
   },
   "file_extension": ".py",
   "mimetype": "text/x-python",
   "name": "python",
   "nbconvert_exporter": "python",
   "pygments_lexer": "ipython3",
   "version": "3.9.7"
  }
 },
 "nbformat": 4,
 "nbformat_minor": 2
}
